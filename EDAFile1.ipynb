{
 "cells": [
  {
   "cell_type": "markdown",
   "id": "7ca09d60",
   "metadata": {},
   "source": [
    "# EDA - SALES ANALYSIS "
   ]
  },
  {
   "cell_type": "code",
   "execution_count": 2,
   "id": "5de83e2b",
   "metadata": {},
   "outputs": [],
   "source": [
    "import pandas as pd \n",
    "import numpy as np \n",
    "import matplotlib.pyplot as plt \n",
    "import seaborn as s \n",
    "%matplotlib inline"
   ]
  },
  {
   "cell_type": "code",
   "execution_count": 3,
   "id": "63a88752",
   "metadata": {},
   "outputs": [],
   "source": [
    "sales_data = pd.read_csv('sales.csv')"
   ]
  },
  {
   "cell_type": "code",
   "execution_count": 16,
   "id": "762df116",
   "metadata": {},
   "outputs": [
    {
     "name": "stdout",
     "output_type": "stream",
     "text": [
      "<class 'pandas.core.frame.DataFrame'>\n",
      "RangeIndex: 252 entries, 0 to 251\n",
      "Data columns (total 3 columns):\n",
      " #   Column  Non-Null Count  Dtype         \n",
      "---  ------  --------------  -----         \n",
      " 0   Month   252 non-null    datetime64[ns]\n",
      " 1   Sales   252 non-null    int64         \n",
      " 2   Year    252 non-null    int32         \n",
      "dtypes: datetime64[ns](1), int32(1), int64(1)\n",
      "memory usage: 5.1 KB\n"
     ]
    }
   ],
   "source": [
    "sales_data.info()"
   ]
  },
  {
   "cell_type": "code",
   "execution_count": 17,
   "id": "49f6cfe7",
   "metadata": {},
   "outputs": [
    {
     "data": {
      "text/html": [
       "<div>\n",
       "<style scoped>\n",
       "    .dataframe tbody tr th:only-of-type {\n",
       "        vertical-align: middle;\n",
       "    }\n",
       "\n",
       "    .dataframe tbody tr th {\n",
       "        vertical-align: top;\n",
       "    }\n",
       "\n",
       "    .dataframe thead th {\n",
       "        text-align: right;\n",
       "    }\n",
       "</style>\n",
       "<table border=\"1\" class=\"dataframe\">\n",
       "  <thead>\n",
       "    <tr style=\"text-align: right;\">\n",
       "      <th></th>\n",
       "      <th>Month</th>\n",
       "      <th>Sales</th>\n",
       "      <th>Year</th>\n",
       "    </tr>\n",
       "  </thead>\n",
       "  <tbody>\n",
       "    <tr>\n",
       "      <th>count</th>\n",
       "      <td>252</td>\n",
       "      <td>252.000000</td>\n",
       "      <td>252.000000</td>\n",
       "    </tr>\n",
       "    <tr>\n",
       "      <th>mean</th>\n",
       "      <td>2015-07-16 06:40:00</td>\n",
       "      <td>160638.011905</td>\n",
       "      <td>2015.000000</td>\n",
       "    </tr>\n",
       "    <tr>\n",
       "      <th>min</th>\n",
       "      <td>2005-01-31 00:00:00</td>\n",
       "      <td>67362.000000</td>\n",
       "      <td>2005.000000</td>\n",
       "    </tr>\n",
       "    <tr>\n",
       "      <th>25%</th>\n",
       "      <td>2010-04-22 12:00:00</td>\n",
       "      <td>121004.000000</td>\n",
       "      <td>2010.000000</td>\n",
       "    </tr>\n",
       "    <tr>\n",
       "      <th>50%</th>\n",
       "      <td>2015-07-15 12:00:00</td>\n",
       "      <td>154557.500000</td>\n",
       "      <td>2015.000000</td>\n",
       "    </tr>\n",
       "    <tr>\n",
       "      <th>75%</th>\n",
       "      <td>2020-10-07 18:00:00</td>\n",
       "      <td>191108.250000</td>\n",
       "      <td>2020.000000</td>\n",
       "    </tr>\n",
       "    <tr>\n",
       "      <th>max</th>\n",
       "      <td>2025-12-31 00:00:00</td>\n",
       "      <td>303262.000000</td>\n",
       "      <td>2025.000000</td>\n",
       "    </tr>\n",
       "    <tr>\n",
       "      <th>std</th>\n",
       "      <td>NaN</td>\n",
       "      <td>52270.062860</td>\n",
       "      <td>6.067351</td>\n",
       "    </tr>\n",
       "  </tbody>\n",
       "</table>\n",
       "</div>"
      ],
      "text/plain": [
       "                     Month          Sales         Year\n",
       "count                  252     252.000000   252.000000\n",
       "mean   2015-07-16 06:40:00  160638.011905  2015.000000\n",
       "min    2005-01-31 00:00:00   67362.000000  2005.000000\n",
       "25%    2010-04-22 12:00:00  121004.000000  2010.000000\n",
       "50%    2015-07-15 12:00:00  154557.500000  2015.000000\n",
       "75%    2020-10-07 18:00:00  191108.250000  2020.000000\n",
       "max    2025-12-31 00:00:00  303262.000000  2025.000000\n",
       "std                    NaN   52270.062860     6.067351"
      ]
     },
     "execution_count": 17,
     "metadata": {},
     "output_type": "execute_result"
    }
   ],
   "source": [
    "sales_data.describe()"
   ]
  },
  {
   "cell_type": "code",
   "execution_count": 4,
   "id": "b58e1c92",
   "metadata": {},
   "outputs": [
    {
     "data": {
      "text/html": [
       "<div>\n",
       "<style scoped>\n",
       "    .dataframe tbody tr th:only-of-type {\n",
       "        vertical-align: middle;\n",
       "    }\n",
       "\n",
       "    .dataframe tbody tr th {\n",
       "        vertical-align: top;\n",
       "    }\n",
       "\n",
       "    .dataframe thead th {\n",
       "        text-align: right;\n",
       "    }\n",
       "</style>\n",
       "<table border=\"1\" class=\"dataframe\">\n",
       "  <thead>\n",
       "    <tr style=\"text-align: right;\">\n",
       "      <th></th>\n",
       "      <th>Month</th>\n",
       "      <th>Sales</th>\n",
       "    </tr>\n",
       "  </thead>\n",
       "  <tbody>\n",
       "    <tr>\n",
       "      <th>0</th>\n",
       "      <td>2005-01-31</td>\n",
       "      <td>139695</td>\n",
       "    </tr>\n",
       "    <tr>\n",
       "      <th>1</th>\n",
       "      <td>2005-02-28</td>\n",
       "      <td>163398</td>\n",
       "    </tr>\n",
       "    <tr>\n",
       "      <th>2</th>\n",
       "      <td>2005-03-31</td>\n",
       "      <td>134535</td>\n",
       "    </tr>\n",
       "    <tr>\n",
       "      <th>3</th>\n",
       "      <td>2005-04-30</td>\n",
       "      <td>79298</td>\n",
       "    </tr>\n",
       "    <tr>\n",
       "      <th>4</th>\n",
       "      <td>2005-05-31</td>\n",
       "      <td>67362</td>\n",
       "    </tr>\n",
       "    <tr>\n",
       "      <th>...</th>\n",
       "      <td>...</td>\n",
       "      <td>...</td>\n",
       "    </tr>\n",
       "    <tr>\n",
       "      <th>247</th>\n",
       "      <td>2025-08-31</td>\n",
       "      <td>206790</td>\n",
       "    </tr>\n",
       "    <tr>\n",
       "      <th>248</th>\n",
       "      <td>2025-09-30</td>\n",
       "      <td>228886</td>\n",
       "    </tr>\n",
       "    <tr>\n",
       "      <th>249</th>\n",
       "      <td>2025-10-31</td>\n",
       "      <td>272005</td>\n",
       "    </tr>\n",
       "    <tr>\n",
       "      <th>250</th>\n",
       "      <td>2025-11-30</td>\n",
       "      <td>234088</td>\n",
       "    </tr>\n",
       "    <tr>\n",
       "      <th>251</th>\n",
       "      <td>2025-12-31</td>\n",
       "      <td>241512</td>\n",
       "    </tr>\n",
       "  </tbody>\n",
       "</table>\n",
       "<p>252 rows × 2 columns</p>\n",
       "</div>"
      ],
      "text/plain": [
       "          Month   Sales\n",
       "0    2005-01-31  139695\n",
       "1    2005-02-28  163398\n",
       "2    2005-03-31  134535\n",
       "3    2005-04-30   79298\n",
       "4    2005-05-31   67362\n",
       "..          ...     ...\n",
       "247  2025-08-31  206790\n",
       "248  2025-09-30  228886\n",
       "249  2025-10-31  272005\n",
       "250  2025-11-30  234088\n",
       "251  2025-12-31  241512\n",
       "\n",
       "[252 rows x 2 columns]"
      ]
     },
     "execution_count": 4,
     "metadata": {},
     "output_type": "execute_result"
    }
   ],
   "source": [
    "sales_data"
   ]
  },
  {
   "cell_type": "code",
   "execution_count": null,
   "id": "10e43ec1",
   "metadata": {},
   "outputs": [
    {
     "name": "stdout",
     "output_type": "stream",
     "text": [
      "Month    0\n",
      "Sales    0\n",
      "dtype: int64\n"
     ]
    }
   ],
   "source": [
    "## identifying null values \n",
    "print(pd.isnull(sales_data).sum())"
   ]
  },
  {
   "cell_type": "code",
   "execution_count": 14,
   "id": "fe48795d",
   "metadata": {},
   "outputs": [
    {
     "name": "stdout",
     "output_type": "stream",
     "text": [
      "Year\n",
      "2005    1304841\n",
      "2006    1320695\n",
      "2007    1482740\n",
      "2008    1281377\n",
      "2009    1353020\n",
      "2010    1634922\n",
      "2011    1726434\n",
      "2012    1825549\n",
      "2013    1812025\n",
      "2014    1811565\n",
      "2015    1982063\n",
      "2016    2050676\n",
      "2017    2085009\n",
      "2018    2160155\n",
      "2019    2159598\n",
      "2020    1757387\n",
      "2021    2550408\n",
      "2022    2302576\n",
      "2023    2539819\n",
      "2024    2588497\n",
      "2025    2751423\n",
      "Name: Sales, dtype: int64\n"
     ]
    }
   ],
   "source": [
    "## Total sales each year \n",
    "sales_data['Month'] = pd.to_datetime(sales_data['Month'])\n",
    "sales_data['Year'] = sales_data['Month'].dt.year\n",
    "total_sales_per_year = sales_data.groupby('Year')['Sales'].sum()\n",
    "print(total_sales_per_year)"
   ]
  },
  {
   "cell_type": "code",
   "execution_count": 15,
   "id": "b2827927",
   "metadata": {},
   "outputs": [
    {
     "data": {
      "image/png": "[encoded data removed]",
      "text/plain": [
       "<Figure size 640x480 with 1 Axes>"
      ]
     },
     "metadata": {},
     "output_type": "display_data"
    }
   ],
   "source": [
    "import matplotlib.pyplot as plt\n",
    "\n",
    "plt.boxplot(sales_data['Sales'])\n",
    "plt.title(\"Boxplot of Sales\")\n",
    "plt.ylabel(\"Sales\")\n",
    "plt.show()"
   ]
  },
  {
   "cell_type": "markdown",
   "id": "62860128",
   "metadata": {},
   "source": [
    "# Time Series Forcasting "
   ]
  },
  {
   "cell_type": "markdown",
   "id": "07f5870b",
   "metadata": {},
   "source": []
  }
 ],
 "metadata": {
  "kernelspec": {
   "display_name": "Python 3",
   "language": "python",
   "name": "python3"
  },
  "language_info": {
   "codemirror_mode": {
    "name": "ipython",
    "version": 3
   },
   "file_extension": ".py",
   "mimetype": "text/x-python",
   "name": "python",
   "nbconvert_exporter": "python",
   "pygments_lexer": "ipython3",
   "version": "3.12.11"
  }
 },
 "nbformat": 4,
 "nbformat_minor": 5
}
